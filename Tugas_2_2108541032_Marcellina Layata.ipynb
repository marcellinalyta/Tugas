{
 "cells": [
  {
   "cell_type": "markdown",
   "id": "1dbab5b3",
   "metadata": {},
   "source": [
    "### 5.12 List di Python"
   ]
  },
  {
   "cell_type": "code",
   "execution_count": null,
   "id": "840fa4ed",
   "metadata": {},
   "outputs": [],
   "source": [
    "buah = ['mangga', 'pisang', 'rambutan', 'durian']\n",
    "print(buah)"
   ]
  },
  {
   "cell_type": "code",
   "execution_count": null,
   "id": "73f0c946",
   "metadata": {},
   "outputs": [],
   "source": [
    "print(buah[0])"
   ]
  },
  {
   "cell_type": "code",
   "execution_count": null,
   "id": "a9001efd",
   "metadata": {},
   "outputs": [],
   "source": [
    "print(buah[1])"
   ]
  },
  {
   "cell_type": "code",
   "execution_count": null,
   "id": "0dc9faf7",
   "metadata": {},
   "outputs": [],
   "source": [
    "print(buah[2])"
   ]
  },
  {
   "cell_type": "code",
   "execution_count": null,
   "id": "606841dd",
   "metadata": {},
   "outputs": [],
   "source": [
    "print(buah[-1])"
   ]
  },
  {
   "cell_type": "code",
   "execution_count": null,
   "id": "6a8c8059",
   "metadata": {},
   "outputs": [],
   "source": [
    "print(buah[-2])"
   ]
  },
  {
   "cell_type": "code",
   "execution_count": null,
   "id": "6ee815a0",
   "metadata": {},
   "outputs": [],
   "source": [
    "buah[0]='salak'\n",
    "print(buah)"
   ]
  },
  {
   "cell_type": "code",
   "execution_count": null,
   "id": "d573e425",
   "metadata": {},
   "outputs": [],
   "source": [
    "print(buah[0:2])"
   ]
  },
  {
   "cell_type": "code",
   "execution_count": null,
   "id": "b0f7725b",
   "metadata": {},
   "outputs": [],
   "source": [
    "print(buah[0:3])"
   ]
  },
  {
   "cell_type": "code",
   "execution_count": null,
   "id": "1cdd0f1e",
   "metadata": {},
   "outputs": [],
   "source": [
    "# tidak merubah list\n",
    "print(buah)"
   ]
  },
  {
   "cell_type": "code",
   "execution_count": null,
   "id": "3a4fa0fe",
   "metadata": {},
   "outputs": [],
   "source": [
    "nama = ['acel', 'layata', 'marcel', 'lina']\n",
    "print(nama)"
   ]
  },
  {
   "cell_type": "code",
   "execution_count": null,
   "id": "3e95c85e",
   "metadata": {},
   "outputs": [],
   "source": [
    "print(nama[0])"
   ]
  },
  {
   "cell_type": "code",
   "execution_count": null,
   "id": "7a245ec1",
   "metadata": {},
   "outputs": [],
   "source": [
    "print(nama[1])"
   ]
  },
  {
   "cell_type": "code",
   "execution_count": null,
   "id": "810592f5",
   "metadata": {},
   "outputs": [],
   "source": [
    "print(nama[2])"
   ]
  },
  {
   "cell_type": "code",
   "execution_count": null,
   "id": "23b82320",
   "metadata": {},
   "outputs": [],
   "source": [
    "print(nama[-1])"
   ]
  },
  {
   "cell_type": "code",
   "execution_count": null,
   "id": "a9cc00ba",
   "metadata": {},
   "outputs": [],
   "source": [
    "print(nama[-2])"
   ]
  },
  {
   "cell_type": "code",
   "execution_count": null,
   "id": "8c695ec8",
   "metadata": {},
   "outputs": [],
   "source": [
    "nama[0]='nana'\n",
    "print(nama)"
   ]
  },
  {
   "cell_type": "code",
   "execution_count": null,
   "id": "77b8f956",
   "metadata": {},
   "outputs": [],
   "source": [
    "print(nama[0:2])"
   ]
  },
  {
   "cell_type": "code",
   "execution_count": null,
   "id": "8dff41f4",
   "metadata": {},
   "outputs": [],
   "source": [
    "print(nama[0:3])"
   ]
  },
  {
   "cell_type": "code",
   "execution_count": null,
   "id": "c6fc3763",
   "metadata": {},
   "outputs": [],
   "source": [
    "# tidak merubah list\n",
    "print(nama)"
   ]
  },
  {
   "cell_type": "markdown",
   "id": "bdceda58",
   "metadata": {},
   "source": [
    "### 5.13 Metoda List"
   ]
  },
  {
   "cell_type": "code",
   "execution_count": null,
   "id": "b3940197",
   "metadata": {},
   "outputs": [],
   "source": [
    "nama = ['Made', 'Eka', 'Dwi']\n",
    "nama.append('Sari')\n",
    "print(nama)"
   ]
  },
  {
   "cell_type": "code",
   "execution_count": null,
   "id": "52c67be4",
   "metadata": {},
   "outputs": [],
   "source": [
    "nama.insert(0, 'Dewi')\n",
    "print(nama)"
   ]
  },
  {
   "cell_type": "code",
   "execution_count": null,
   "id": "ed9ed4c3",
   "metadata": {},
   "outputs": [],
   "source": [
    "nama.remove('Eka')\n",
    "print(nama)"
   ]
  },
  {
   "cell_type": "code",
   "execution_count": null,
   "id": "50de0de0",
   "metadata": {},
   "outputs": [],
   "source": [
    "print('Eka'in nama)"
   ]
  },
  {
   "cell_type": "code",
   "execution_count": null,
   "id": "69b9d173",
   "metadata": {},
   "outputs": [],
   "source": [
    "print('Dewi' in nama)"
   ]
  },
  {
   "cell_type": "code",
   "execution_count": null,
   "id": "6f6a8210",
   "metadata": {},
   "outputs": [],
   "source": [
    "print(len(nama))"
   ]
  },
  {
   "cell_type": "code",
   "execution_count": null,
   "id": "c61c2ea7",
   "metadata": {},
   "outputs": [],
   "source": [
    "nama = ['Marcel', 'Lina', 'Acel']\n",
    "nama.append('Layata')\n",
    "print(nama)"
   ]
  },
  {
   "cell_type": "code",
   "execution_count": null,
   "id": "4217953c",
   "metadata": {},
   "outputs": [],
   "source": [
    "nama.insert(0, 'Nana')\n",
    "print(nama)"
   ]
  },
  {
   "cell_type": "code",
   "execution_count": null,
   "id": "c45273fc",
   "metadata": {},
   "outputs": [],
   "source": [
    "nama.remove('Acel')\n",
    "print(nama)"
   ]
  },
  {
   "cell_type": "code",
   "execution_count": null,
   "id": "5fa047b1",
   "metadata": {},
   "outputs": [],
   "source": [
    "print('Acel'in nama)"
   ]
  },
  {
   "cell_type": "code",
   "execution_count": null,
   "id": "08b22fc4",
   "metadata": {},
   "outputs": [],
   "source": [
    "print('Lina' in nama)"
   ]
  },
  {
   "cell_type": "code",
   "execution_count": null,
   "id": "5226dffe",
   "metadata": {},
   "outputs": [],
   "source": [
    "print(len(nama))"
   ]
  },
  {
   "cell_type": "markdown",
   "id": "6c126254",
   "metadata": {},
   "source": [
    "### 5.14 For Loop "
   ]
  },
  {
   "cell_type": "code",
   "execution_count": null,
   "id": "72beb9aa",
   "metadata": {},
   "outputs": [],
   "source": [
    "buah = ['manggis', 'durian', 'salak', 'jeruk']\n",
    "for jenis in buah:\n",
    "    print(jenis)"
   ]
  },
  {
   "cell_type": "code",
   "execution_count": null,
   "id": "817a5930",
   "metadata": {},
   "outputs": [],
   "source": [
    "i = 0\n",
    "while i < len(buah):\n",
    "    print(buah[i])\n",
    "    i+=1"
   ]
  },
  {
   "cell_type": "code",
   "execution_count": null,
   "id": "a90097d6",
   "metadata": {},
   "outputs": [],
   "source": [
    "i = 0\n",
    "while i < len(buah):\n",
    "    print(buah[i])\n",
    "    i+=2"
   ]
  },
  {
   "cell_type": "code",
   "execution_count": null,
   "id": "bc678105",
   "metadata": {},
   "outputs": [],
   "source": [
    "i = 0\n",
    "while i < len(buah):\n",
    "    print(buah[i])\n",
    "    i+=3"
   ]
  },
  {
   "cell_type": "markdown",
   "id": "d56111e2",
   "metadata": {},
   "source": [
    "### 5.15 Fungsi Range"
   ]
  },
  {
   "cell_type": "code",
   "execution_count": null,
   "id": "f06d1dc3",
   "metadata": {},
   "outputs": [],
   "source": [
    "angka = range(6)\n",
    "print(angka)"
   ]
  },
  {
   "cell_type": "code",
   "execution_count": null,
   "id": "706ee26e",
   "metadata": {},
   "outputs": [],
   "source": [
    "for isi in angka:\n",
    "    print(isi)"
   ]
  },
  {
   "cell_type": "code",
   "execution_count": null,
   "id": "64dae1fa",
   "metadata": {},
   "outputs": [],
   "source": [
    "for isi in range(5,10):\n",
    "    print(isi)"
   ]
  },
  {
   "cell_type": "code",
   "execution_count": null,
   "id": "193455de",
   "metadata": {},
   "outputs": [],
   "source": [
    "for isi in range(0,10,2):\n",
    "    print(isi)"
   ]
  },
  {
   "cell_type": "code",
   "execution_count": null,
   "id": "fec16f3b",
   "metadata": {},
   "outputs": [],
   "source": [
    "for isi in range(0,10):\n",
    "    print(isi)"
   ]
  },
  {
   "cell_type": "code",
   "execution_count": null,
   "id": "19975816",
   "metadata": {},
   "outputs": [],
   "source": [
    "for isi in range(0,50,5):\n",
    "    print(isi)"
   ]
  },
  {
   "cell_type": "code",
   "execution_count": null,
   "id": "1ba92a94",
   "metadata": {},
   "outputs": [],
   "source": [
    "angka = range(50)\n",
    "print(angka)"
   ]
  },
  {
   "cell_type": "code",
   "execution_count": null,
   "id": "7a49b369",
   "metadata": {},
   "outputs": [],
   "source": [
    "for isi in angka:\n",
    "    print(isi)"
   ]
  },
  {
   "cell_type": "markdown",
   "id": "2efd536e",
   "metadata": {},
   "source": [
    "Buatlah program untuk mencari nilai terbesar di dalam suatu list."
   ]
  },
  {
   "cell_type": "code",
   "execution_count": null,
   "id": "ab86d737",
   "metadata": {},
   "outputs": [],
   "source": [
    "data = [1,2,3,4,5,4,3,2,1]\n",
    "terbesar = data[0]\n",
    "for i in range(len(data)):\n",
    "    if data[i] > terbesar :\n",
    "        terbesar = data[i]\n",
    "print(terbesar)"
   ]
  },
  {
   "cell_type": "code",
   "execution_count": null,
   "id": "ce1b5ba6",
   "metadata": {},
   "outputs": [],
   "source": [
    "data = [1,2,3,4,5,4,3,2,1]\n",
    "terbesar = data[0]\n",
    "for angka in data:\n",
    "    if angka > terbesar :\n",
    "        terbesar = angka\n",
    "print(terbesar)"
   ]
  },
  {
   "cell_type": "code",
   "execution_count": null,
   "id": "687fbdb6",
   "metadata": {},
   "outputs": [],
   "source": [
    "data = [1,2,3,4,5,6,7,8,9]\n",
    "terbesar = data[0]\n",
    "for angka in data:\n",
    "    if angka > terbesar :\n",
    "        terbesar = angka\n",
    "print(terbesar)"
   ]
  },
  {
   "cell_type": "code",
   "execution_count": null,
   "id": "2eb832cb",
   "metadata": {},
   "outputs": [],
   "source": [
    "data = [1,5,3,7,5,2]\n",
    "terbesar = data[0]\n",
    "for angka in data:\n",
    "    if angka > terbesar :\n",
    "        terbesar = angka\n",
    "print(terbesar)"
   ]
  },
  {
   "cell_type": "code",
   "execution_count": null,
   "id": "9fc5d80c",
   "metadata": {},
   "outputs": [],
   "source": [
    "data = [1,2,3,4,5,6,7,8,9,10,11,12,13]\n",
    "terbesar = data[0]\n",
    "for i in range(len(data)):\n",
    "    if data[i] > terbesar :\n",
    "        terbesar = data[i]\n",
    "print(terbesar)"
   ]
  },
  {
   "cell_type": "code",
   "execution_count": null,
   "id": "85dc46d3",
   "metadata": {},
   "outputs": [],
   "source": [
    "data = [1,8,4,2,5,6,7]\n",
    "terbesar = data[0]\n",
    "for i in range(len(data)):\n",
    "    if data[i] > terbesar :\n",
    "        terbesar = data[i]\n",
    "print(terbesar)"
   ]
  },
  {
   "cell_type": "markdown",
   "id": "86adbb0e",
   "metadata": {},
   "source": [
    "Buatlah program untuk membuat anggota list menjadi unik dengan kata lain tidak ada anggota list yang kembar."
   ]
  },
  {
   "cell_type": "code",
   "execution_count": null,
   "id": "9f775ea1",
   "metadata": {},
   "outputs": [],
   "source": [
    "angka = [1,2,3,4,3,5,6,7,7,8,9,10,9,11,12]\n",
    "angka_unik = []\n",
    "for anggota in angka:\n",
    "    if anggota not in angka_unik:\n",
    "        angka_unik.append(anggota)\n",
    "print(angka_unik)"
   ]
  },
  {
   "cell_type": "code",
   "execution_count": null,
   "id": "1b10ffcd",
   "metadata": {},
   "outputs": [],
   "source": [
    "angka = [1,5,3,7,5,3,2,6,9,2,4]\n",
    "angka_unik = []\n",
    "for anggota in angka:\n",
    "    if anggota not in angka_unik:\n",
    "        angka_unik.append(anggota)\n",
    "print(angka_unik)"
   ]
  },
  {
   "cell_type": "markdown",
   "id": "806e2d94",
   "metadata": {},
   "source": [
    "### 5.16 List 2 Dimensi"
   ]
  },
  {
   "cell_type": "code",
   "execution_count": null,
   "id": "ee70c4c7",
   "metadata": {},
   "outputs": [],
   "source": [
    "matrik = [\n",
    "    [1,2,3,4],\n",
    "    [5,6,7,8],\n",
    "    [9,10,11,12],\n",
    "    [13,14,15,16]\n",
    "]\n",
    "print(matrik)"
   ]
  },
  {
   "cell_type": "code",
   "execution_count": null,
   "id": "26a09824",
   "metadata": {},
   "outputs": [],
   "source": [
    "matrik[0]"
   ]
  },
  {
   "cell_type": "code",
   "execution_count": null,
   "id": "f3c9afcd",
   "metadata": {},
   "outputs": [],
   "source": [
    "matrik[1]"
   ]
  },
  {
   "cell_type": "code",
   "execution_count": null,
   "id": "05cfad51",
   "metadata": {},
   "outputs": [],
   "source": [
    "matrik[1][2]"
   ]
  },
  {
   "cell_type": "code",
   "execution_count": null,
   "id": "0a08b0a1",
   "metadata": {},
   "outputs": [],
   "source": [
    "for baris in matrik:\n",
    "    print(baris)\n",
    "    for kolom in baris:\n",
    "        print(kolom)"
   ]
  },
  {
   "cell_type": "code",
   "execution_count": null,
   "id": "1fdcd98c",
   "metadata": {},
   "outputs": [],
   "source": [
    "matrik"
   ]
  },
  {
   "cell_type": "markdown",
   "id": "e140bd49",
   "metadata": {},
   "source": [
    "### 5.17 Tuples "
   ]
  },
  {
   "cell_type": "code",
   "execution_count": null,
   "id": "651ccded",
   "metadata": {},
   "outputs": [],
   "source": [
    "angka = (0,1,1,3,4,5)"
   ]
  },
  {
   "cell_type": "code",
   "execution_count": null,
   "id": "27d3a1ab",
   "metadata": {},
   "outputs": [],
   "source": [
    "print(angka[0])"
   ]
  },
  {
   "cell_type": "code",
   "execution_count": null,
   "id": "602a0e1c",
   "metadata": {},
   "outputs": [],
   "source": [
    "print(angka[0:3])"
   ]
  },
  {
   "cell_type": "code",
   "execution_count": null,
   "id": "45606a04",
   "metadata": {},
   "outputs": [],
   "source": [
    "for isi in angka[0:3]:\n",
    "    print(isi)"
   ]
  },
  {
   "cell_type": "code",
   "execution_count": null,
   "id": "99120b7b",
   "metadata": {},
   "outputs": [],
   "source": [
    "angka[0]"
   ]
  },
  {
   "cell_type": "code",
   "execution_count": null,
   "id": "575de965",
   "metadata": {},
   "outputs": [],
   "source": [
    "angka.append(10)"
   ]
  },
  {
   "cell_type": "code",
   "execution_count": null,
   "id": "2beeb89f",
   "metadata": {},
   "outputs": [],
   "source": [
    "angka.remove(5)"
   ]
  },
  {
   "cell_type": "code",
   "execution_count": null,
   "id": "9d1dc5a8",
   "metadata": {},
   "outputs": [],
   "source": [
    "angka.count(1)"
   ]
  },
  {
   "cell_type": "code",
   "execution_count": null,
   "id": "38f3d9e1",
   "metadata": {},
   "outputs": [],
   "source": [
    "angka.index(3)"
   ]
  },
  {
   "cell_type": "markdown",
   "id": "3cef9846",
   "metadata": {},
   "source": [
    "### 5.18 Dictionaries"
   ]
  },
  {
   "cell_type": "code",
   "execution_count": null,
   "id": "d542b8bf",
   "metadata": {},
   "outputs": [],
   "source": [
    "data_orang = {\n",
    "    \"nama\" : \"Ketut Dogler\",\n",
    "    \"umur\" : 12,\n",
    "    \"apakah_singel\" : False\n",
    "}"
   ]
  },
  {
   "cell_type": "code",
   "execution_count": null,
   "id": "9b026f19",
   "metadata": {},
   "outputs": [],
   "source": [
    "print(data_orang['nama'])"
   ]
  },
  {
   "cell_type": "code",
   "execution_count": null,
   "id": "6b9926c2",
   "metadata": {},
   "outputs": [],
   "source": [
    "print(data_orang['Nama'])"
   ]
  },
  {
   "cell_type": "code",
   "execution_count": null,
   "id": "d0b8a75f",
   "metadata": {},
   "outputs": [],
   "source": [
    "print(data_orang.get('nama'))"
   ]
  },
  {
   "cell_type": "code",
   "execution_count": null,
   "id": "b15219c8",
   "metadata": {},
   "outputs": [],
   "source": [
    "print(data_orang.get('tanggal_lahir')"
   ]
  },
  {
   "cell_type": "code",
   "execution_count": null,
   "id": "7dddf8e4",
   "metadata": {},
   "outputs": [],
   "source": [
    "print(data_orang.get('tanggal_lahir', '2-2-2010'))"
   ]
  },
  {
   "cell_type": "code",
   "execution_count": null,
   "id": "67c76f27",
   "metadata": {},
   "outputs": [],
   "source": [
    "print(data_orang)"
   ]
  },
  {
   "cell_type": "code",
   "execution_count": null,
   "id": "fb525cd0",
   "metadata": {},
   "outputs": [],
   "source": [
    "print(data_orang['tanggal_lahir'])"
   ]
  },
  {
   "cell_type": "code",
   "execution_count": null,
   "id": "72983130",
   "metadata": {},
   "outputs": [],
   "source": [
    "data_orang['HP'] = '08123456789'"
   ]
  },
  {
   "cell_type": "code",
   "execution_count": null,
   "id": "fc8569d0",
   "metadata": {},
   "outputs": [],
   "source": [
    "print(data_orang[\"HP\"])"
   ]
  },
  {
   "cell_type": "code",
   "execution_count": null,
   "id": "c70faa79",
   "metadata": {},
   "outputs": [],
   "source": [
    "print(data_orang)"
   ]
  },
  {
   "cell_type": "code",
   "execution_count": null,
   "id": "81de5c4b",
   "metadata": {},
   "outputs": [],
   "source": [
    "data_orang['tanggal_lahir'] = '2-2-2010'"
   ]
  },
  {
   "cell_type": "code",
   "execution_count": null,
   "id": "0d41c1ac",
   "metadata": {},
   "outputs": [],
   "source": [
    "print(data_orang[\"tanggal_lahir\"])"
   ]
  },
  {
   "cell_type": "code",
   "execution_count": null,
   "id": "8524e611",
   "metadata": {},
   "outputs": [],
   "source": [
    "print(data_orang)"
   ]
  },
  {
   "cell_type": "markdown",
   "id": "6f5d185d",
   "metadata": {},
   "source": [
    "Buatlah program untuk merubah nomor HP yang tadinya berupa angka menjadi sebutan bilangan tersebut."
   ]
  },
  {
   "cell_type": "code",
   "execution_count": null,
   "id": "252886bd",
   "metadata": {},
   "outputs": [],
   "source": [
    "angka = {\n",
    "    \"0\" : \"nol\",\n",
    "    \"1\" : \"satu\",\n",
    "    \"2\" : \"dua\",\n",
    "    \"3\" : \"tiga\",\n",
    "    \"4\" : \"empat\",\n",
    "    \"5\" : \"lima\",\n",
    "    \"6\" : \"enam\",\n",
    "    \"7\" : \"tujuh\",\n",
    "    \"8\" : \"delapan\",\n",
    "    \"9\" : \"sembilan\"\n",
    "}"
   ]
  },
  {
   "cell_type": "code",
   "execution_count": null,
   "id": "8b10b839",
   "metadata": {},
   "outputs": [],
   "source": [
    "nomor_HP = input(\"Masukan nomor HP anda \")\n",
    "nomor_angka = \" \"\n",
    "for isi in nomor_HP:\n",
    "    nomor_angka += angka.get(isi) + \" \"\n",
    "print(nomor_angka)"
   ]
  },
  {
   "cell_type": "markdown",
   "id": "a6985bc0",
   "metadata": {},
   "source": [
    "### 5.19 Fungsi dalam Python"
   ]
  },
  {
   "cell_type": "code",
   "execution_count": null,
   "id": "bcb72f66",
   "metadata": {},
   "outputs": [],
   "source": [
    "def full_nama(first_name,last_name):\n",
    "    print(f\"Nama lengkapnya adalah {first_name} {last_name}\""
   ]
  },
  {
   "cell_type": "code",
   "execution_count": null,
   "id": "88428e1a",
   "metadata": {},
   "outputs": [],
   "source": [
    "first_name = input(\"Nama depan anda adalah \")\n",
    "last_name = input(\"Nama belakang anda adalah \")\n",
    "full_nama(first_name,last_name)"
   ]
  },
  {
   "cell_type": "code",
   "execution_count": null,
   "id": "19f23853",
   "metadata": {},
   "outputs": [],
   "source": [
    "name = input (\"Nama anda adalah\")\n",
    "umur = input (\"Berapakah umur anda?\")\n",
    "full_nama(name,umur)"
   ]
  },
  {
   "cell_type": "markdown",
   "id": "b86b3fd7",
   "metadata": {},
   "source": [
    "#### 5.19.1 Tugas Fungsi pada Python"
   ]
  },
  {
   "cell_type": "code",
   "execution_count": null,
   "id": "adcc5b75",
   "metadata": {},
   "outputs": [],
   "source": [
    "def waktu_sampai(jarak,kecepatan):\n",
    "    waktu = jarak/kecepatan\n",
    "    print(waktu)"
   ]
  },
  {
   "cell_type": "code",
   "execution_count": null,
   "id": "3c80e609",
   "metadata": {},
   "outputs": [],
   "source": [
    "def waktu_tempuh(jarak,kecepatan):\n",
    "    waktu = jarak/kecepatan\n",
    "    return waktu"
   ]
  },
  {
   "cell_type": "code",
   "execution_count": null,
   "id": "eeafed8f",
   "metadata": {},
   "outputs": [],
   "source": [
    "waktu_sampai(80,60)"
   ]
  },
  {
   "cell_type": "code",
   "execution_count": null,
   "id": "35b2c4b2",
   "metadata": {},
   "outputs": [],
   "source": [
    "waktu_sampai(100,60)"
   ]
  },
  {
   "cell_type": "code",
   "execution_count": null,
   "id": "ebc97826",
   "metadata": {},
   "outputs": [],
   "source": [
    "waktu_tempuh(80,60)"
   ]
  },
  {
   "cell_type": "code",
   "execution_count": null,
   "id": "4b864421",
   "metadata": {},
   "outputs": [],
   "source": [
    "a = waktu_sampai(80,60)\n",
    "print (a)"
   ]
  },
  {
   "cell_type": "code",
   "execution_count": null,
   "id": "fa4d6456",
   "metadata": {},
   "outputs": [],
   "source": [
    "b = waktu_tempuh(80,60)\n",
    "print (b)"
   ]
  },
  {
   "cell_type": "code",
   "execution_count": null,
   "id": "eeda629c",
   "metadata": {},
   "outputs": [],
   "source": [
    "import numpy as np"
   ]
  },
  {
   "cell_type": "code",
   "execution_count": null,
   "id": "1a198b32",
   "metadata": {},
   "outputs": [],
   "source": [
    "def luas_segitiga(alas,tinggi):\n",
    "    luas = (1/2)*alas*tinggi\n",
    "    return luas\n",
    "def luas_lingkaran(jari_jari):\n",
    "    luas = np.pi*(jari_jari**2)\n",
    "    return luas\n",
    "def luas_persegi(sisi):\n",
    "    luas = sisi**2\n",
    "    return luas\n",
    "def luas_persegi_panjang(panjang,lebar):\n",
    "    luas = panjang*lebar\n",
    "    return luas"
   ]
  },
  {
   "cell_type": "code",
   "execution_count": null,
   "id": "9aabbf54",
   "metadata": {},
   "outputs": [],
   "source": [
    "jenis_bidang = input(\"Tulis jenis bidangnya \")\n",
    "if jenis_bidang.upper() == 'SEGITIGA':\n",
    "    alas = float(input('Berapakah panjang alasnya? '))\n",
    "    tinggi = float(input('Berapakah tingginya? '))\n",
    "    luas = luas_segitiga(alas,tinggi)\n",
    "    print(f\"Luas {jenis_bidang} adalah {luas}\")\n",
    "elif jenis_bidang.upper() == 'LINGKARAN':\n",
    "    jari_jari = float(input('Berapakah panjang jari-jarinya? '))\n",
    "    luas = luas_lingkaran(jari_jari)\n",
    "    print(f\"Luas {jenis_bidang} adalah {luas}\")\n",
    "elif (jenis_bidang.upper() == 'PERSEGI') or (jenis_bidang.upper() == 'BUJUR SANGKAR'):\n",
    "    sisi = float(input('Berapakah panjang sisinya? '))\n",
    "    luas = luas_persegi(sisi)\n",
    "    print(f\"Luas {jenis_bidang} adalah {luas}\")\n",
    "elif jenis_bidang.upper() == 'PERSEGI PANJANG':\n",
    "    panjang = float(input('Berapakah panjangnya? '))\n",
    "    lebar = float(input('Berapakah lebarnya? '))\n",
    "    luas = luas_persegi_panjang(panjang,lebar)\n",
    "    print(f\"Luas {jenis_bidang} adalah {luas}\")\n",
    "else:\n",
    "    print(f\"Maaf bidang {jenis_bidang} yang anda masukan tidak ada.\")\n",
    "    print(\"Pilihan cuma SEGITIGA, LINGKARAN, PERSEGI dan PERSEGI PANJANG.\")\n",
    "    print('Terimakasih')"
   ]
  }
 ],
 "metadata": {
  "kernelspec": {
   "display_name": "Python 3 (ipykernel)",
   "language": "python",
   "name": "python3"
  },
  "language_info": {
   "codemirror_mode": {
    "name": "ipython",
    "version": 3
   },
   "file_extension": ".py",
   "mimetype": "text/x-python",
   "name": "python",
   "nbconvert_exporter": "python",
   "pygments_lexer": "ipython3",
   "version": "3.9.7"
  }
 },
 "nbformat": 4,
 "nbformat_minor": 5
}
