{
 "cells": [
  {
   "cell_type": "markdown",
   "id": "ddd857b3",
   "metadata": {},
   "source": [
    "5.1 Print"
   ]
  },
  {
   "cell_type": "code",
   "execution_count": null,
   "id": "fc9e4479",
   "metadata": {},
   "outputs": [],
   "source": [
    "murid = 32\n",
    "uang_di_tas = 50000\n",
    "print(murid)\n",
    "print(uang_di_tas)\n",
    "print(murid*uang_di_tas)"
   ]
  },
  {
   "cell_type": "code",
   "execution_count": null,
   "id": "2f178450",
   "metadata": {},
   "outputs": [],
   "source": [
    "nama_depan = 'Marcellina'\n",
    "nama_belakang = ' Layata'\n",
    "print (nama_depan + nama_belakang)"
   ]
  },
  {
   "cell_type": "code",
   "execution_count": null,
   "id": "ff087480",
   "metadata": {},
   "outputs": [],
   "source": [
    "print('Ini Kelas Algoritma!')"
   ]
  },
  {
   "cell_type": "code",
   "execution_count": null,
   "id": "139e143d",
   "metadata": {},
   "outputs": [],
   "source": [
    "print('She is such a \"GENIUS\"')"
   ]
  },
  {
   "cell_type": "markdown",
   "id": "c1713bc1",
   "metadata": {},
   "source": [
    "5.2 Input"
   ]
  },
  {
   "cell_type": "code",
   "execution_count": null,
   "id": "682918e5",
   "metadata": {},
   "outputs": [],
   "source": [
    "nama = input(\" Siapakah nama anda? \")\n",
    "kegiatan = input( \"Apakah kegiatan anda sekarang, \" + nama + '? ')\n",
    "print(\"Semangat \"+ kegiatan +\"nya ya, \" + nama + \"!\")"
   ]
  },
  {
   "cell_type": "markdown",
   "id": "6db625de",
   "metadata": {},
   "source": [
    "5.3 Tipe Data pada Python"
   ]
  },
  {
   "cell_type": "code",
   "execution_count": null,
   "id": "e4c6f49e",
   "metadata": {},
   "outputs": [],
   "source": [
    "uang_di_saku = input(\"Berapakah jumlah uang di saku anda? \")\n",
    "uang_di_dompet = input(\"Berapakah jumlah uang di dompet anda? \")\n",
    "print(\"Total uang anda adalah Rp \" + uang_di_saku + uang_di_dompet)"
   ]
  },
  {
   "cell_type": "code",
   "execution_count": null,
   "id": "1f0c19fd",
   "metadata": {},
   "outputs": [],
   "source": [
    "uang_di_saku = input(\"Berapakah jumlah uang di saku anda? \")\n",
    "uang_di_dompet = input(\"Berapakah jumlah uang di dompet anda? \")\n",
    "total_uang = int(uang_di_saku) + int(uang_di_dompet)\n",
    "print(\"Total uang anda adalah Rp \" + str(total_uang))"
   ]
  },
  {
   "cell_type": "code",
   "execution_count": null,
   "id": "fc7c7872",
   "metadata": {},
   "outputs": [],
   "source": [
    "type(uang_di_saku)"
   ]
  },
  {
   "cell_type": "code",
   "execution_count": null,
   "id": "da4ddd70",
   "metadata": {},
   "outputs": [],
   "source": [
    "type(uang_di_dompet)"
   ]
  },
  {
   "cell_type": "code",
   "execution_count": null,
   "id": "5d53f537",
   "metadata": {},
   "outputs": [],
   "source": [
    "type(total_uang)"
   ]
  },
  {
   "cell_type": "markdown",
   "id": "8ec4e808",
   "metadata": {},
   "source": [
    "Buat program penjumlahan dua bilangan dengan menggunakan perintah input dan print"
   ]
  },
  {
   "cell_type": "code",
   "execution_count": null,
   "id": "83f3bd6b",
   "metadata": {},
   "outputs": [],
   "source": [
    "bilangan_satu = input(\"Masukan bilangan pertama: \")\n",
    "bilangan_dua = input(\"Masukan bilangan kedua: \")\n",
    "jumlah = float(bilangan_satu) + float(bilangan_dua)\n",
    "print(\"Jumlah kedua bilangan adalah \"+ str(jumlah))"
   ]
  },
  {
   "cell_type": "markdown",
   "id": "0c6bfe73",
   "metadata": {},
   "source": [
    "5.4 Formatted String"
   ]
  },
  {
   "cell_type": "code",
   "execution_count": null,
   "id": "a42088f9",
   "metadata": {},
   "outputs": [],
   "source": [
    "nama = \"Dina\"\n",
    "pekerjaan = \"accounting\"\n",
    "instansi = \"PT. Jaya Abadi\"\n",
    "print(nama + ' adalah seorang ' + pekerjaan + ' di ' + instansi +'.')"
   ]
  },
  {
   "cell_type": "code",
   "execution_count": null,
   "id": "4ffa5297",
   "metadata": {},
   "outputs": [],
   "source": [
    "print(f'{nama} adalah seorang {pekerjaan} di {instansi}.')"
   ]
  },
  {
   "cell_type": "code",
   "execution_count": null,
   "id": "3f94b091",
   "metadata": {},
   "outputs": [],
   "source": [
    "print(f\"{nama} adalah seorang {pekerjaan} di {instansi}.\")"
   ]
  },
  {
   "cell_type": "markdown",
   "id": "8b759ae9",
   "metadata": {},
   "source": [
    "5.5 Strings Index"
   ]
  },
  {
   "cell_type": "code",
   "execution_count": null,
   "id": "e64fa0fb",
   "metadata": {},
   "outputs": [],
   "source": [
    "kelas = 'ini kelas kalkulus'"
   ]
  },
  {
   "cell_type": "code",
   "execution_count": null,
   "id": "ac070c35",
   "metadata": {},
   "outputs": [],
   "source": [
    "print(kelas[0:3])"
   ]
  },
  {
   "cell_type": "code",
   "execution_count": null,
   "id": "77a551f9",
   "metadata": {},
   "outputs": [],
   "source": [
    "print(kelas[0:-1])"
   ]
  },
  {
   "cell_type": "code",
   "execution_count": null,
   "id": "bd2bdd22",
   "metadata": {},
   "outputs": [],
   "source": [
    "print(kelas[5:-1])"
   ]
  },
  {
   "cell_type": "code",
   "execution_count": null,
   "id": "2ed72ff5",
   "metadata": {},
   "outputs": [],
   "source": [
    "print(kelas[2:-1:3])"
   ]
  },
  {
   "cell_type": "code",
   "execution_count": null,
   "id": "d8746260",
   "metadata": {},
   "outputs": [],
   "source": [
    "print(kelas[:-3])"
   ]
  },
  {
   "cell_type": "code",
   "execution_count": null,
   "id": "1c0b5368",
   "metadata": {},
   "outputs": [],
   "source": [
    "print(kelas[1:])"
   ]
  },
  {
   "cell_type": "code",
   "execution_count": null,
   "id": "7b352c6b",
   "metadata": {},
   "outputs": [],
   "source": [
    "print(kelas[:])"
   ]
  },
  {
   "cell_type": "markdown",
   "id": "6272fc56",
   "metadata": {},
   "source": [
    "5.6 Strings Methods"
   ]
  },
  {
   "cell_type": "code",
   "execution_count": null,
   "id": "bce16c27",
   "metadata": {},
   "outputs": [],
   "source": [
    "judul = 'Surabaya Kota Pahlawan'"
   ]
  },
  {
   "cell_type": "code",
   "execution_count": null,
   "id": "0439e474",
   "metadata": {},
   "outputs": [],
   "source": [
    "print(len(judul))"
   ]
  },
  {
   "cell_type": "code",
   "execution_count": null,
   "id": "f30ee03c",
   "metadata": {},
   "outputs": [],
   "source": [
    "judul.upper()"
   ]
  },
  {
   "cell_type": "code",
   "execution_count": null,
   "id": "7ad73dbd",
   "metadata": {},
   "outputs": [],
   "source": [
    "judul.lower()"
   ]
  },
  {
   "cell_type": "code",
   "execution_count": null,
   "id": "8df1b75b",
   "metadata": {},
   "outputs": [],
   "source": [
    "judul.find('Kota')"
   ]
  },
  {
   "cell_type": "code",
   "execution_count": null,
   "id": "908399e6",
   "metadata": {},
   "outputs": [],
   "source": [
    "judul.find('Surabaya')"
   ]
  },
  {
   "cell_type": "code",
   "execution_count": null,
   "id": "645f2293",
   "metadata": {},
   "outputs": [],
   "source": [
    "judul.replace('Surabaya', 'Bandung')"
   ]
  },
  {
   "cell_type": "code",
   "execution_count": null,
   "id": "13d7b57a",
   "metadata": {},
   "outputs": [],
   "source": [
    "judul.replace('Pahlawan', 'Terpanas')"
   ]
  },
  {
   "cell_type": "code",
   "execution_count": null,
   "id": "cb6ff760",
   "metadata": {},
   "outputs": [],
   "source": [
    "print('Surabaya' in judul)"
   ]
  },
  {
   "cell_type": "code",
   "execution_count": null,
   "id": "31a905f8",
   "metadata": {},
   "outputs": [],
   "source": [
    "print('kota' in judul)"
   ]
  },
  {
   "cell_type": "markdown",
   "id": "393bee4f",
   "metadata": {},
   "source": [
    "5.7 Operasi Matematika di Python"
   ]
  },
  {
   "cell_type": "code",
   "execution_count": null,
   "id": "5cd7df87",
   "metadata": {},
   "outputs": [],
   "source": [
    "print(5+4)\n",
    "print(5-2)\n",
    "print(6*8)\n",
    "print(21/3)\n",
    "print(13/2)\n",
    "print(10/3)\n",
    "print(25//4)\n",
    "print(8%3)\n",
    "print(8**3)"
   ]
  },
  {
   "cell_type": "code",
   "execution_count": null,
   "id": "1f9155bf",
   "metadata": {},
   "outputs": [],
   "source": [
    "x =3\n",
    "x+=1\n",
    "print(x)\n",
    "x-=2\n",
    "print(x)\n",
    "x*=5\n",
    "print(x)"
   ]
  },
  {
   "cell_type": "markdown",
   "id": "b599b9b5",
   "metadata": {},
   "source": [
    "5.8 Operator Perbandingan di Python"
   ]
  },
  {
   "cell_type": "code",
   "execution_count": null,
   "id": "55d17d74",
   "metadata": {},
   "outputs": [],
   "source": [
    "x = 5>3\n",
    "print(x)\n",
    "x = 3<5\n",
    "print(x)\n",
    "x = 5 >= 3\n",
    "print(x)\n",
    "x = 3 <= 5\n",
    "print(x)\n",
    "x = 5 == 5\n",
    "print(x)\n",
    "x = 5 !=6\n",
    "print(x)"
   ]
  },
  {
   "cell_type": "code",
   "execution_count": null,
   "id": "d7fc4e9e",
   "metadata": {},
   "outputs": [],
   "source": [
    "x = 3>5\n",
    "print(x)\n",
    "x = 5<3\n",
    "print(x)\n",
    "x = 3 >= 5\n",
    "print(x)\n",
    "x = 5 <= 3\n",
    "print(x)\n",
    "x = 5 == 6\n",
    "print(x)\n",
    "x = 5 !=5\n",
    "print(x)"
   ]
  },
  {
   "cell_type": "markdown",
   "id": "2a6e116d",
   "metadata": {},
   "source": [
    "5.9 Operator Logika di Python"
   ]
  },
  {
   "cell_type": "code",
   "execution_count": null,
   "id": "b9efc27b",
   "metadata": {},
   "outputs": [],
   "source": [
    "buah_apel = 15\n",
    "buah_pisang = 20\n",
    "print(buah_apel > 10 and buah_pisang < 25)"
   ]
  },
  {
   "cell_type": "code",
   "execution_count": null,
   "id": "c2491eda",
   "metadata": {},
   "outputs": [],
   "source": [
    "print(buah_apel < 10 and buah_pisang < 25)"
   ]
  },
  {
   "cell_type": "code",
   "execution_count": null,
   "id": "f3b48c5b",
   "metadata": {},
   "outputs": [],
   "source": [
    "print(buah_apel < 10 or buah_pisang < 25)"
   ]
  },
  {
   "cell_type": "code",
   "execution_count": null,
   "id": "b764d1f2",
   "metadata": {},
   "outputs": [],
   "source": [
    "print(not buah_apel > 10 or buah_pisang > 25)"
   ]
  },
  {
   "cell_type": "code",
   "execution_count": null,
   "id": "c2a111c8",
   "metadata": {},
   "outputs": [],
   "source": [
    "print(buah_apel < 10 or buah_pisang > 25)"
   ]
  },
  {
   "cell_type": "markdown",
   "id": "5489c06b",
   "metadata": {},
   "source": [
    "5.10 Operator if di Python"
   ]
  },
  {
   "cell_type": "code",
   "execution_count": null,
   "id": "1de6f4f4",
   "metadata": {},
   "outputs": [],
   "source": [
    "nilai = float(input(\"Nilai anda adalah \"))\n",
    "if nilai >= 85 :\n",
    "    print(\"Anda mendapatkan nilai A\")\n",
    "    print(\"Bagus sekali, selamat!\")\n",
    "if nilai < 85 and nilai>= 75:\n",
    "    print(\"Anda mendapatkan nilai B\")\n",
    "    print(\"Tingkatkan prestasimu!\")\n",
    "if nilai <= 75 and nilai >=65:\n",
    "    print(\"Anda mendapatkan nilai C\")\n",
    "    print(\"Lain kali harus lebih baik\")\n",
    "if nilai <=65 and nilai >=55:\n",
    "    print(\"Anda mendapatkan nilai D\")\n",
    "    print(\"Ulang lagi tahun depan\")\n",
    "if nilai <55:\n",
    "    print(\"Anda mendapatkan nilai E\")\n",
    "    print(\"Sampai jumpa tahun depan\")"
   ]
  },
  {
   "cell_type": "code",
   "execution_count": null,
   "id": "1f7ff126",
   "metadata": {},
   "outputs": [],
   "source": [
    "nilai = float(input(\"Nilai anda adalah \"))\n",
    "if nilai >= 85 :\n",
    "    print(\"Anda mendapatkan nilai A\")\n",
    "    print(\"Bagus sekali, selamat!\")\n",
    "elif nilai < 85 and nilai>= 75:\n",
    "    print(\"Anda mendapatkan nilai B\")\n",
    "    print(\"Tingkatkan prestasimu!\")\n",
    "elif nilai <= 75 and nilai >=65:\n",
    "    print(\"Anda mendapatkan nilai C\")\n",
    "    print(\"Lain kali harus lebih baik\")\n",
    "elif nilai <=65 and nilai >=55:\n",
    "    print(\"Anda mendapatkan nilai D\")\n",
    "    print(\"Ulang lagi tahun depan\")\n",
    "else:\n",
    "    print(\"Anda mendapatkan nilai E\")\n",
    "    print(\"Sampai jumpa tahun depan\")"
   ]
  },
  {
   "cell_type": "markdown",
   "id": "9266a9aa",
   "metadata": {},
   "source": [
    "Buatlah program yang merubah tinggi badan seseorang dari cm ke inci atau sebaliknya dari inci ke cm."
   ]
  },
  {
   "cell_type": "code",
   "execution_count": null,
   "id": "52f9f08b",
   "metadata": {},
   "outputs": [],
   "source": [
    "tinggi = float(input(\"Berapakah tinggi anda? \"))\n",
    "cm_atau_inci = input(\"Tingginya dalam cm atau inci? \")\n",
    "\n",
    "if cm_atau_inci.upper() == 'CM':\n",
    "    tinggi = tinggi*0.393701\n",
    "    print(\"Tinggi anda adalah \" + str(tinggi) + \"inci\")\n",
    "elif cm_atau_inci.upper() == 'INCI':\n",
    "    tinggi = tinggi/0.393701\n",
    "    print(f\"Tinggi anda adalah {tinggi} cm\")"
   ]
  },
  {
   "cell_type": "markdown",
   "id": "524eaeb4",
   "metadata": {},
   "source": [
    "5.11 While loop"
   ]
  },
  {
   "cell_type": "code",
   "execution_count": null,
   "id": "8e6f8568",
   "metadata": {},
   "outputs": [],
   "source": [
    "a = 0\n",
    "while a < 8:\n",
    "    print(\"Angka \" + str(a)+\" masih dibawah 8\")\n",
    "    a+= 1"
   ]
  },
  {
   "cell_type": "code",
   "execution_count": null,
   "id": "0cc46ca1",
   "metadata": {},
   "outputs": [],
   "source": [
    "a = 0\n",
    "while a < 7:\n",
    "    print(a * '*')\n",
    "    a += 1"
   ]
  }
 ],
 "metadata": {
  "kernelspec": {
   "display_name": "Python 3 (ipykernel)",
   "language": "python",
   "name": "python3"
  },
  "language_info": {
   "codemirror_mode": {
    "name": "ipython",
    "version": 3
   },
   "file_extension": ".py",
   "mimetype": "text/x-python",
   "name": "python",
   "nbconvert_exporter": "python",
   "pygments_lexer": "ipython3",
   "version": "3.9.7"
  }
 },
 "nbformat": 4,
 "nbformat_minor": 5
}
